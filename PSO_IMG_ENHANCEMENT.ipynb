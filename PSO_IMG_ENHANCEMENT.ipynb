{
  "nbformat": 4,
  "nbformat_minor": 0,
  "metadata": {
    "colab": {
      "provenance": [],
      "gpuType": "T4",
      "mount_file_id": "1bfyRqR-QH0t-1hOmkeINeNu7UONQ1gFK",
      "authorship_tag": "ABX9TyN4gREW2bmwc7QeAFMNGwoX",
      "include_colab_link": true
    },
    "kernelspec": {
      "name": "python3",
      "display_name": "Python 3"
    },
    "language_info": {
      "name": "python"
    },
    "accelerator": "GPU"
  },
  "cells": [
    {
      "cell_type": "markdown",
      "metadata": {
        "id": "view-in-github",
        "colab_type": "text"
      },
      "source": [
        "<a href=\"https://colab.research.google.com/github/vasan12sp/LowLightImgEnhancementUsingPSO/blob/main/PSO_IMG_ENHANCEMENT.ipynb\" target=\"_parent\"><img src=\"https://colab.research.google.com/assets/colab-badge.svg\" alt=\"Open In Colab\"/></a>"
      ]
    },
    {
      "cell_type": "code",
      "execution_count": null,
      "metadata": {
        "colab": {
          "base_uri": "https://localhost:8080/"
        },
        "id": "mKDrveM4Cb6b",
        "outputId": "b1c5b800-d85e-49f3-f0ba-9f60e0625e7b"
      },
      "outputs": [
        {
          "output_type": "stream",
          "name": "stdout",
          "text": [
            "Collecting pyswarm\n",
            "  Downloading pyswarm-0.6.tar.gz (4.3 kB)\n",
            "  Preparing metadata (setup.py) ... \u001b[?25l\u001b[?25hdone\n",
            "Requirement already satisfied: numpy in /usr/local/lib/python3.11/dist-packages (from pyswarm) (2.0.2)\n",
            "Building wheels for collected packages: pyswarm\n",
            "  Building wheel for pyswarm (setup.py) ... \u001b[?25l\u001b[?25hdone\n",
            "  Created wheel for pyswarm: filename=pyswarm-0.6-py3-none-any.whl size=4463 sha256=0c5d63f66b8a5cb77df46d8ff96d540ded7ae4280782d6778d53503ce6bf5044\n",
            "  Stored in directory: /root/.cache/pip/wheels/bb/4f/ec/8970b83323e16aa95034da175454843947376614d6d5e9627f\n",
            "Successfully built pyswarm\n",
            "Installing collected packages: pyswarm\n",
            "Successfully installed pyswarm-0.6\n",
            "Collecting brisque\n",
            "  Downloading brisque-0.0.16-py3-none-any.whl.metadata (2.0 kB)\n",
            "Requirement already satisfied: numpy in /usr/local/lib/python3.11/dist-packages (from brisque) (2.0.2)\n",
            "Requirement already satisfied: scikit-image in /usr/local/lib/python3.11/dist-packages (from brisque) (0.25.2)\n",
            "Requirement already satisfied: scipy in /usr/local/lib/python3.11/dist-packages (from brisque) (1.14.1)\n",
            "Requirement already satisfied: opencv-python in /usr/local/lib/python3.11/dist-packages (from brisque) (4.11.0.86)\n",
            "Collecting libsvm-official (from brisque)\n",
            "  Downloading libsvm_official-3.35.0.tar.gz (39 kB)\n",
            "  Preparing metadata (setup.py) ... \u001b[?25l\u001b[?25hdone\n",
            "Requirement already satisfied: networkx>=3.0 in /usr/local/lib/python3.11/dist-packages (from scikit-image->brisque) (3.4.2)\n",
            "Requirement already satisfied: pillow>=10.1 in /usr/local/lib/python3.11/dist-packages (from scikit-image->brisque) (11.1.0)\n",
            "Requirement already satisfied: imageio!=2.35.0,>=2.33 in /usr/local/lib/python3.11/dist-packages (from scikit-image->brisque) (2.37.0)\n",
            "Requirement already satisfied: tifffile>=2022.8.12 in /usr/local/lib/python3.11/dist-packages (from scikit-image->brisque) (2025.3.30)\n",
            "Requirement already satisfied: packaging>=21 in /usr/local/lib/python3.11/dist-packages (from scikit-image->brisque) (24.2)\n",
            "Requirement already satisfied: lazy-loader>=0.4 in /usr/local/lib/python3.11/dist-packages (from scikit-image->brisque) (0.4)\n",
            "Downloading brisque-0.0.16-py3-none-any.whl (140 kB)\n",
            "\u001b[2K   \u001b[90m━━━━━━━━━━━━━━━━━━━━━━━━━━━━━━━━━━━━━━━━\u001b[0m \u001b[32m140.1/140.1 kB\u001b[0m \u001b[31m6.5 MB/s\u001b[0m eta \u001b[36m0:00:00\u001b[0m\n",
            "\u001b[?25hBuilding wheels for collected packages: libsvm-official\n",
            "  Building wheel for libsvm-official (setup.py) ... \u001b[?25l\u001b[?25hdone\n",
            "  Created wheel for libsvm-official: filename=libsvm_official-3.35.0-cp311-cp311-linux_x86_64.whl size=124215 sha256=ef1419f731bd4f9cdba76ab645c0500b370cbc56073876c4b279b12190288162\n",
            "  Stored in directory: /root/.cache/pip/wheels/cb/1b/c2/e2bf699257a3150a4c54c95e6efe70586ea1a4d97e71619076\n",
            "Successfully built libsvm-official\n",
            "Installing collected packages: libsvm-official, brisque\n",
            "Successfully installed brisque-0.0.16 libsvm-official-3.35.0\n"
          ]
        }
      ],
      "source": [
        "!pip install pyswarm\n",
        "!pip install brisque\n",
        "\n",
        "import random\n",
        "import numpy as np\n",
        "import cv2\n",
        "import matplotlib.pyplot as plt\n",
        "from pyswarm import pso\n",
        "from skimage.metrics import structural_similarity as ssim\n",
        "from skimage import img_as_ubyte\n",
        "from scipy.stats import entropy\n",
        "import os\n",
        "import skimage\n",
        "from skimage import img_as_float\n",
        "from skimage.restoration import estimate_sigma\n",
        "import brisque\n"
      ]
    },
    {
      "cell_type": "code",
      "source": [
        "\n",
        "def load_lol_dataset(dataset_path):\n",
        "    low_light_path = os.path.join(dataset_path, \"our485/low\")\n",
        "    low_light_images = []\n",
        "\n",
        "    for filename in os.listdir(low_light_path):\n",
        "        img_path = os.path.join(low_light_path, filename)\n",
        "        img = cv2.imread(img_path)\n",
        "\n",
        "        if img is None:\n",
        "            print(f\"Warning: Could not read {img_path}\")\n",
        "            continue  # Skip unreadable images\n",
        "\n",
        "        img = cv2.resize(img, (400, 600))\n",
        "        low_light_images.append(img)\n",
        "\n",
        "    return np.array(low_light_images)\n",
        "\n",
        "\n"
      ],
      "metadata": {
        "id": "UVC8A9JaCgdf"
      },
      "execution_count": null,
      "outputs": []
    },
    {
      "cell_type": "code",
      "source": [
        "def calculate_entropy(image):\n",
        "    grayscale = cv2.cvtColor(image, cv2.COLOR_BGR2GRAY)\n",
        "    hist, _ = np.histogram(grayscale, bins=256, range=(0, 255), density=True)\n",
        "    return entropy(hist)\n",
        "\n",
        "def calculate_sharpness(image):\n",
        "    gray = cv2.cvtColor(image, cv2.COLOR_BGR2GRAY)\n",
        "    laplacian = cv2.Laplacian(gray, cv2.CV_64F)\n",
        "    return laplacian.var()\n",
        "\n",
        "def calculate_brightness(image):\n",
        "    return np.mean(cv2.cvtColor(image, cv2.COLOR_BGR2GRAY))\n",
        "\n",
        "def calculate_ssim(original, enhanced):\n",
        "    original_gray = cv2.cvtColor(original, cv2.COLOR_BGR2GRAY)\n",
        "    enhanced_gray = cv2.cvtColor(enhanced, cv2.COLOR_BGR2GRAY)\n",
        "    return ssim(original_gray, enhanced_gray, data_range=255)\n",
        "\n",
        "def calculate_psnr(original, enhanced):\n",
        "    return cv2.PSNR(original, enhanced)\n",
        "\n",
        "def calculate_ndf(image):\n",
        "    obj = brisque.BRISQUE()\n",
        "    return obj.score(image)  # Lower BRISQUE score = better quality\n"
      ],
      "metadata": {
        "id": "uPmvs29thfys"
      },
      "execution_count": null,
      "outputs": []
    },
    {
      "cell_type": "code",
      "source": [
        "def histogram_equalization(image):\n",
        "    img_yuv = cv2.cvtColor(image, cv2.COLOR_BGR2YUV)\n",
        "    img_yuv[:,:,0] = cv2.equalizeHist(img_yuv[:,:,0])\n",
        "    return cv2.cvtColor(img_yuv, cv2.COLOR_YUV2BGR)\n",
        "\n",
        "def enhance_image(image, params):\n",
        "    contrast, brightness, gamma = params\n",
        "    new_image = cv2.convertScaleAbs(image, alpha=contrast, beta=brightness)\n",
        "    gamma_corrected = np.array(255 * (new_image / 255) ** gamma, dtype='uint8')\n",
        "    return gamma_corrected\n",
        "\n",
        "def objective_function(params, image):\n",
        "    enhanced = enhance_image(image, params)\n",
        "\n",
        "    e = calculate_entropy(enhanced)      # Maximize\n",
        "    s = calculate_sharpness(enhanced)    # Maximize\n",
        "    b = calculate_brightness(enhanced)   # Could be used optionally\n",
        "    similarity = calculate_ssim(image, enhanced)  # Maximize\n",
        "    quality = calculate_psnr(image, enhanced)  # Maximize\n",
        "    ndf = calculate_ndf(enhanced)  # Minimize\n",
        "\n",
        "    # Weights for each metric\n",
        "    w1, w2, w3, w4, w5, w6 = 3, 3, 2, 3, 4, 5\n",
        "\n",
        "    # Negative sign because PSO minimizes the function, so we negate it\n",
        "    return -(w1 * e + w2 * s + w3 * b + w4 * similarity + w5 * quality - w6 * ndf)\n",
        "\n",
        "\n"
      ],
      "metadata": {
        "id": "6MkkXTmLhk_L"
      },
      "execution_count": null,
      "outputs": []
    },
    {
      "cell_type": "code",
      "source": [
        "def optimize_image(image):\n",
        "    lb = [0.5, -50, 0.5]  # Lower bounds for [contrast, brightness, gamma]\n",
        "    ub = [2.0, 50, 2.5]   # Upper bounds\n",
        "    best_params, _ = pso(objective_function, lb, ub, args=(image,), swarmsize=20, maxiter=10)\n",
        "    return best_params\n",
        "\n",
        "\n"
      ],
      "metadata": {
        "id": "ljKFzVWXhuGD"
      },
      "execution_count": null,
      "outputs": []
    },
    {
      "cell_type": "code",
      "source": [
        "def process_lol_dataset(dataset_path):\n",
        "    low_light_images = load_lol_dataset(dataset_path)\n",
        "\n",
        "    # Select 100 random images\n",
        "    num_images = min(100, len(low_light_images))\n",
        "    selected_images = random.sample(list(low_light_images), num_images)\n",
        "\n",
        "\n",
        "    # Initialize accumulators for average calculation\n",
        "    total_he_entropy = total_pso_entropy = 0\n",
        "    total_he_sharpness = total_pso_sharpness = 0\n",
        "    total_he_brightness = total_pso_brightness = 0\n",
        "    total_he_ssim = total_pso_ssim = 0\n",
        "    total_he_psnr = total_pso_psnr = 0\n",
        "    total_he_ndf = total_pso_ndf = 0\n",
        "\n",
        "    for i, low_light_img in enumerate(selected_images):\n",
        "        # Histogram Equalization\n",
        "        he_img = histogram_equalization(low_light_img)\n",
        "\n",
        "        # PSO Enhancement\n",
        "        best_params = optimize_image(low_light_img)\n",
        "        pso_img = enhance_image(low_light_img, best_params)\n",
        "\n",
        "        # Compute Metrics\n",
        "        he_entropy = calculate_entropy(he_img)\n",
        "        pso_entropy = calculate_entropy(pso_img)\n",
        "\n",
        "        he_sharpness = calculate_sharpness(he_img)\n",
        "        pso_sharpness = calculate_sharpness(pso_img)\n",
        "\n",
        "        he_brightness = calculate_brightness(he_img)\n",
        "        pso_brightness = calculate_brightness(pso_img)\n",
        "\n",
        "        he_ssim = calculate_ssim(low_light_img, he_img)\n",
        "        pso_ssim = calculate_ssim(low_light_img, pso_img)\n",
        "\n",
        "        he_psnr = calculate_psnr(low_light_img, he_img)\n",
        "        pso_psnr = calculate_psnr(low_light_img, pso_img)\n",
        "\n",
        "        he_ndf = calculate_ndf(he_img)\n",
        "        pso_ndf = calculate_ndf(pso_img)\n",
        "\n",
        "        # Accumulate values for averaging\n",
        "        total_he_entropy += he_entropy\n",
        "        total_pso_entropy += pso_entropy\n",
        "        total_he_brightness += he_brightness\n",
        "        total_pso_brightness += pso_brightness\n",
        "        total_he_ssim += he_ssim\n",
        "        total_pso_ssim += pso_ssim\n",
        "        total_he_psnr += he_psnr\n",
        "        total_pso_psnr += pso_psnr\n",
        "        total_he_ndf += he_ndf\n",
        "        total_pso_ndf += pso_ndf\n",
        "\n",
        "        # Print Metrics for each image\n",
        "        print(f\"\\nImage {i+1} Metrics:\")\n",
        "        print(f\"{'Metric':<15}{'Histogram Eq.':<15}{'PSO Enhanced'}\")\n",
        "        print(f\"{'-'*50}\")\n",
        "        print(f\"Entropy        {he_entropy:.4f}       {pso_entropy:.4f}\")\n",
        "        print(f\"Brightness     {he_brightness:.4f}       {pso_brightness:.4f}\")\n",
        "        print(f\"SSIM           {he_ssim:.4f}       {pso_ssim:.4f}\")\n",
        "        print(f\"PSNR           {he_psnr:.4f}       {pso_psnr:.4f}\")\n",
        "        print(f\"NDF            {he_ndf:.4f}       {pso_ndf:.4f}\")\n",
        "\n",
        "        # Display results\n",
        "        fig, axes = plt.subplots(1, 3, figsize=(15, 5))\n",
        "        axes[0].imshow(cv2.cvtColor(low_light_img, cv2.COLOR_BGR2RGB))\n",
        "        axes[0].set_title(\"Original Image\")\n",
        "        axes[1].imshow(cv2.cvtColor(he_img, cv2.COLOR_BGR2RGB))\n",
        "        axes[1].set_title(\"Histogram Equalization\")\n",
        "        axes[2].imshow(cv2.cvtColor(pso_img, cv2.COLOR_BGR2RGB))\n",
        "        axes[2].set_title(\"PSO Enhancement\")\n",
        "        plt.show()\n",
        "\n",
        "    # Compute and display final average metrics\n",
        "    avg_he_entropy = total_he_entropy / num_images\n",
        "    avg_pso_entropy = total_pso_entropy / num_images\n",
        "    avg_he_brightness = total_he_brightness / num_images\n",
        "    avg_pso_brightness = total_pso_brightness / num_images\n",
        "    avg_he_ssim = total_he_ssim / num_images\n",
        "    avg_pso_ssim = total_pso_ssim / num_images\n",
        "    avg_he_psnr = total_he_psnr / num_images\n",
        "    avg_pso_psnr = total_pso_psnr / num_images\n",
        "    avg_he_ndf = total_he_ndf / num_images\n",
        "    avg_pso_ndf = total_pso_ndf / num_images\n",
        "\n",
        "    print(\"\\nFinal Average Metrics for 100 Randomly Selected Images:\")\n",
        "    print(f\"{'Metric':<15}{'Histogram Eq.':<15}{'PSO Enhanced'}\")\n",
        "    print(f\"{'-'*50}\")\n",
        "    print(f\"Entropy        {avg_he_entropy:.4f}       {avg_pso_entropy:.4f}\")\n",
        "    print(f\"Brightness     {avg_he_brightness:.4f}       {avg_pso_brightness:.4f}\")\n",
        "    print(f\"SSIM           {avg_he_ssim:.4f}       {avg_pso_ssim:.4f}\")\n",
        "    print(f\"PSNR           {avg_he_psnr:.4f}       {avg_pso_psnr:.4f}\")\n",
        "    print(f\"NDF            {avg_he_ndf:.4f}       {avg_pso_ndf:.4f}\")\n",
        "\n",
        "\n",
        "\n",
        "\n"
      ],
      "metadata": {
        "id": "_56kXfqkh90L"
      },
      "execution_count": null,
      "outputs": []
    },
    {
      "cell_type": "code",
      "source": [
        "# Run the LOL dataset processing\n",
        "process_lol_dataset(\"/kaggle/input/lol-dataset/lol_dataset/\")"
      ],
      "metadata": {
        "colab": {
          "base_uri": "https://localhost:8080/",
          "height": 1000
        },
        "id": "_TeqV2xViG8M",
        "outputId": "8a0f75dc-40e7-4836-cb6e-9dced8ce62a0"
      },
      "execution_count": null,
      "outputs": []
    },
    {
      "cell_type": "code",
      "source": [],
      "metadata": {
        "id": "_iyCZNrgjjyd"
      },
      "execution_count": null,
      "outputs": []
    }
  ]
}